{
 "cells": [
  {
   "cell_type": "code",
   "execution_count": 25,
   "id": "b8334856-93e6-479d-a6b1-d5f5fb7f4759",
   "metadata": {},
   "outputs": [],
   "source": [
    "import pandas as pd\n",
    "import numpy as np\n",
    "import matplotlib.pyplot as plt"
   ]
  },
  {
   "cell_type": "code",
   "execution_count": 26,
   "id": "931596d4-c016-4bad-a77c-58c2c9bff7aa",
   "metadata": {},
   "outputs": [],
   "source": [
    "pop = pd.read_csv('population_ukraine_to_2022.csv')\n"
   ]
  },
  {
   "cell_type": "code",
   "execution_count": 27,
   "id": "0d84b6e3-9732-4d10-98a9-234dcd969bdd",
   "metadata": {},
   "outputs": [],
   "source": [
    "pop_cleaned = pop.loc[:, ~pop.columns.str.contains('-M|Вік|Стать')]\n",
    "filtered_data = pop_cleaned[pop_cleaned['Періодичність'] == 'Річна']\n",
    "filtered_data = filtered_data[filtered_data['Показник'] == 'Чисельність наявного населення (за оцінкою) станом на 1 січня']"
   ]
  },
  {
   "cell_type": "code",
   "execution_count": 28,
   "id": "d5b707ee-d345-4538-b4a0-69ef6df44c1d",
   "metadata": {},
   "outputs": [],
   "source": [
    "melted_data = filtered_data.melt(id_vars=['Показник', 'Територіальний розріз', 'Тип місцевості', 'Періодичність'],\n",
    "                                 var_name='Рік', value_name='Чисельність')"
   ]
  },
  {
   "cell_type": "code",
   "execution_count": 29,
   "id": "386dcdfa-1056-4388-a059-a5305925e2e5",
   "metadata": {},
   "outputs": [],
   "source": [
    "melted_data['Рік'] = melted_data['Рік'].astype(int)"
   ]
  },
  {
   "cell_type": "code",
   "execution_count": 30,
   "id": "86ebc89d-6f37-4ed3-b93b-662863441034",
   "metadata": {},
   "outputs": [],
   "source": [
    "urban_population = melted_data[melted_data['Тип місцевості'] == 'Міська']\n",
    "total_population = melted_data[melted_data['Тип місцевості'] == 'Загалом']\n"
   ]
  },
  {
   "cell_type": "code",
   "execution_count": 31,
   "id": "7c580976-7ab3-496e-b6fa-af04ab02ee1f",
   "metadata": {},
   "outputs": [],
   "source": [
    "merged_data = urban_population.merge(total_population, on=['Рік', 'Територіальний розріз'], \n",
    "                                     suffixes=('_Міська', '_Загалом'))\n"
   ]
  },
  {
   "cell_type": "code",
   "execution_count": 32,
   "id": "076f6b85-42e1-40a4-b4b9-c7b28c92833f",
   "metadata": {},
   "outputs": [],
   "source": [
    "merged_data['urban_percentage'] = (merged_data['Чисельність_Міська'] / merged_data['Чисельність_Загалом']).round(2)"
   ]
  },
  {
   "cell_type": "code",
   "execution_count": 33,
   "id": "9bbeb4ec-beaa-45b1-9fe8-bf85367071ad",
   "metadata": {},
   "outputs": [],
   "source": [
    "merged_data.rename(columns={'Територіальний розріз': 'territorial_region', 'Рік': 'year'}, inplace=True)"
   ]
  },
  {
   "cell_type": "code",
   "execution_count": 34,
   "id": "2307ace1-4b95-48ca-9551-041ea07aeb1a",
   "metadata": {},
   "outputs": [],
   "source": [
    "result = merged_data[['territorial_region', 'year', 'urban_percentage']]"
   ]
  },
  {
   "cell_type": "code",
   "execution_count": 36,
   "id": "6f153dcc-6fd8-4955-bbf1-f4f777338f7d",
   "metadata": {},
   "outputs": [
    {
     "name": "stdout",
     "output_type": "stream",
     "text": [
      "          territorial_region  year  urban_percentage\n",
      "0                    Україна  1989              0.67\n",
      "1  Автономна Республіка Крим  1989              0.65\n",
      "2                  Вінницька  1989              0.44\n",
      "3                  Волинська  1989              0.49\n",
      "4           Дніпропетровська  1989              0.83\n"
     ]
    }
   ],
   "source": [
    "print(result.head())"
   ]
  },
  {
   "cell_type": "code",
   "execution_count": null,
   "id": "262b28e1-718f-4eb3-b02c-8b55468cf614",
   "metadata": {},
   "outputs": [],
   "source": [
    "result.to_csv('urban_population_percentage_long.csv', index=False, encoding='utf-8-sig')"
   ]
  },
  {
   "cell_type": "code",
   "execution_count": 53,
   "id": "3beefe43-d22a-4b8f-bec8-c3294f58c03f",
   "metadata": {},
   "outputs": [],
   "source": [
    "translation_dict = {\n",
    "    \"Україна\": \"Ukraine\",\n",
    "    \"Автономна Республіка Крим\": \"Autonomous Republic of Crimea\",\n",
    "    \"Севастополь\": \"Sevastopol City\",\n",
    "    \"Одеська\": \"Odesa Oblast\",\n",
    "    \"Херсонська\": \"Kherson Oblast\",\n",
    "    \"Київ\": \"Kyiv City\",\n",
    "    \"Житомирська\": \"Zhytomyr Oblast\",\n",
    "    \"Сумська\": \"Sumy Oblast\",\n",
    "    \"Донецька\": \"Donetsk Oblast\",\n",
    "    \"Дніпропетровська\": \"Dnipropetrovsk Oblast\",\n",
    "    \"Харківська\": \"Kharkiv Oblast\",\n",
    "    \"Луганська\": \"Luhansk Oblast\",\n",
    "    \"Полтавська\": \"Poltava Oblast\",\n",
    "    \"Запорізька\": \"Zaporizhzhia Oblast\",\n",
    "    \"Чернігівська\": \"Chernihiv Oblast\",\n",
    "    \"Рівненська\": \"Rivne Oblast\",\n",
    "    \"Чернівецька\": \"Chernivtsi Oblast\",\n",
    "    \"Івано-Франківська\": \"Ivano-Frankivsk Oblast\",\n",
    "    \"Хмельницька\": \"Khmelnytskyi Oblast\",\n",
    "    \"Львівська\": \"Lviv Oblast\",\n",
    "    \"Тернопільська\": \"Ternopil Oblast\",\n",
    "    \"Закарпатська\": \"Zakarpattia Oblast\",\n",
    "    \"Волинська\": \"Volyn Oblast\",\n",
    "    \"Черкаська\": \"Cherkasy Oblast\",\n",
    "    \"Кіровоградська\": \"Kirovohrad Oblast\",\n",
    "    \"Київська\": \"Kyiv Oblast\",\n",
    "    \"Миколаївська\": \"Mykolaiv Oblast\",\n",
    "    \"Вінницька\": \"Vinnytsia Oblast\"\n",
    "}"
   ]
  },
  {
   "cell_type": "code",
   "execution_count": 54,
   "id": "84b8bf06-b4b3-4047-b033-d11296de63d7",
   "metadata": {},
   "outputs": [],
   "source": [
    "input_file_path = 'urban_population_percentage_long.csv'\n",
    "df = pd.read_csv(input_file_path, encoding='utf-8-sig')"
   ]
  },
  {
   "cell_type": "code",
   "execution_count": 55,
   "id": "8fe9da7b-6480-46d2-9873-8c5d500c3e86",
   "metadata": {},
   "outputs": [],
   "source": [
    "df.loc[:, 'Region_English'] = df.iloc[:, 0].map(translation_dict)"
   ]
  },
  {
   "cell_type": "code",
   "execution_count": 56,
   "id": "ece1c7b9-aab6-46b9-af31-80c2678e4f85",
   "metadata": {},
   "outputs": [],
   "source": [
    "output_file_path = 'urban_population_percentage_long_translated.csv'\n",
    "df.to_csv(output_file_path, index=False, encoding='utf-8-sig')"
   ]
  },
  {
   "cell_type": "code",
   "execution_count": null,
   "id": "8c30ac02-2516-401a-81fc-8812003b79b8",
   "metadata": {},
   "outputs": [],
   "source": []
  }
 ],
 "metadata": {
  "kernelspec": {
   "display_name": "Python 3",
   "language": "python",
   "name": "python3"
  },
  "language_info": {
   "codemirror_mode": {
    "name": "ipython",
    "version": 3
   },
   "file_extension": ".py",
   "mimetype": "text/x-python",
   "name": "python",
   "nbconvert_exporter": "python",
   "pygments_lexer": "ipython3",
   "version": "3.11.9"
  }
 },
 "nbformat": 4,
 "nbformat_minor": 5
}
